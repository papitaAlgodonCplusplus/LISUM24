{
  "cells": [
    {
      "cell_type": "markdown",
      "metadata": {
        "id": "ifELAE3rrNRl"
      },
      "source": [
        "# Objective: File Ingestion and Schema Validation\n",
        "\n",
        "## Breakdown:\n",
        "\n",
        "1. Take any csv/text file of 2+ GB **[✔]**\n",
        "\n",
        "2. Read the file **[✔]**\n",
        "\n",
        "3. Try different methods of file reading eg: Dask, Modin, Ray, pandas and present your findings in term of computational efficiency **[✔]**\n",
        "\n",
        "4. Perform basic validation on data columns **[✔]**\n",
        "\n",
        "5. Create a YAML file and write the column name in YAML file. --define separator of read and write file, column name in YAML **[✔]**\n",
        "\n",
        "6. Validate number of columns and column name of ingested file with YAML **[✔]**\n",
        "\n",
        "7. Write the file in pipe separated text file (|) in gz format **[✔]**\n",
        "\n",
        "8. Create a summary of the file: **[✔]**\n",
        "* Total number of rows,\n",
        "\n",
        "* Total number of columns\n",
        "\n",
        "* File size"
      ]
    },
    {
      "cell_type": "code",
      "source": [
        "!pip install --upgrade \"dask[complete]\""
      ],
      "metadata": {
        "id": "Fo4ZMrv3rZr6",
        "colab": {
          "base_uri": "https://localhost:8080/"
        },
        "outputId": "ef6cfa34-756f-4b24-eedd-66928f847c9c"
      },
      "execution_count": 1,
      "outputs": [
        {
          "output_type": "stream",
          "name": "stdout",
          "text": [
            "Requirement already satisfied: dask[complete] in /usr/local/lib/python3.10/dist-packages (2023.8.0)\n",
            "Requirement already satisfied: click>=8.0 in /usr/local/lib/python3.10/dist-packages (from dask[complete]) (8.1.6)\n",
            "Requirement already satisfied: cloudpickle>=1.5.0 in /usr/local/lib/python3.10/dist-packages (from dask[complete]) (2.2.1)\n",
            "Requirement already satisfied: fsspec>=2021.09.0 in /usr/local/lib/python3.10/dist-packages (from dask[complete]) (2023.6.0)\n",
            "Requirement already satisfied: packaging>=20.0 in /usr/local/lib/python3.10/dist-packages (from dask[complete]) (23.1)\n",
            "Requirement already satisfied: partd>=1.2.0 in /usr/local/lib/python3.10/dist-packages (from dask[complete]) (1.4.0)\n",
            "Requirement already satisfied: pyyaml>=5.3.1 in /usr/local/lib/python3.10/dist-packages (from dask[complete]) (6.0.1)\n",
            "Requirement already satisfied: toolz>=0.10.0 in /usr/local/lib/python3.10/dist-packages (from dask[complete]) (0.12.0)\n",
            "Requirement already satisfied: importlib-metadata>=4.13.0 in /usr/local/lib/python3.10/dist-packages (from dask[complete]) (6.8.0)\n",
            "Requirement already satisfied: pyarrow>=7.0 in /usr/local/lib/python3.10/dist-packages (from dask[complete]) (9.0.0)\n",
            "Requirement already satisfied: lz4>=4.3.2 in /usr/local/lib/python3.10/dist-packages (from dask[complete]) (4.3.2)\n",
            "Requirement already satisfied: zipp>=0.5 in /usr/local/lib/python3.10/dist-packages (from importlib-metadata>=4.13.0->dask[complete]) (3.16.2)\n",
            "Requirement already satisfied: locket in /usr/local/lib/python3.10/dist-packages (from partd>=1.2.0->dask[complete]) (1.0.0)\n",
            "Requirement already satisfied: numpy>=1.16.6 in /usr/local/lib/python3.10/dist-packages (from pyarrow>=7.0->dask[complete]) (1.25.2)\n",
            "Requirement already satisfied: pandas>=1.3 in /usr/local/lib/python3.10/dist-packages (from dask[complete]) (2.0.3)\n",
            "Requirement already satisfied: bokeh>=2.4.2 in /usr/local/lib/python3.10/dist-packages (from dask[complete]) (3.1.1)\n",
            "Requirement already satisfied: jinja2>=2.10.3 in /usr/local/lib/python3.10/dist-packages (from dask[complete]) (3.1.2)\n",
            "Requirement already satisfied: distributed==2023.8.0 in /usr/local/lib/python3.10/dist-packages (from dask[complete]) (2023.8.0)\n",
            "Requirement already satisfied: msgpack>=1.0.0 in /usr/local/lib/python3.10/dist-packages (from distributed==2023.8.0->dask[complete]) (1.0.5)\n",
            "Requirement already satisfied: psutil>=5.7.2 in /usr/local/lib/python3.10/dist-packages (from distributed==2023.8.0->dask[complete]) (5.9.5)\n",
            "Requirement already satisfied: sortedcontainers>=2.0.5 in /usr/local/lib/python3.10/dist-packages (from distributed==2023.8.0->dask[complete]) (2.4.0)\n",
            "Requirement already satisfied: tblib>=1.6.0 in /usr/local/lib/python3.10/dist-packages (from distributed==2023.8.0->dask[complete]) (2.0.0)\n",
            "Requirement already satisfied: tornado>=6.0.4 in /usr/local/lib/python3.10/dist-packages (from distributed==2023.8.0->dask[complete]) (6.3.1)\n",
            "Requirement already satisfied: urllib3>=1.24.3 in /usr/local/lib/python3.10/dist-packages (from distributed==2023.8.0->dask[complete]) (1.26.16)\n",
            "Requirement already satisfied: zict>=2.2.0 in /usr/local/lib/python3.10/dist-packages (from distributed==2023.8.0->dask[complete]) (3.0.0)\n",
            "Requirement already satisfied: contourpy>=1 in /usr/local/lib/python3.10/dist-packages (from bokeh>=2.4.2->dask[complete]) (1.1.0)\n",
            "Requirement already satisfied: pillow>=7.1.0 in /usr/local/lib/python3.10/dist-packages (from bokeh>=2.4.2->dask[complete]) (9.4.0)\n",
            "Requirement already satisfied: xyzservices>=2021.09.1 in /usr/local/lib/python3.10/dist-packages (from bokeh>=2.4.2->dask[complete]) (2023.7.0)\n",
            "Requirement already satisfied: MarkupSafe>=2.0 in /usr/local/lib/python3.10/dist-packages (from jinja2>=2.10.3->dask[complete]) (2.1.3)\n",
            "Requirement already satisfied: python-dateutil>=2.8.2 in /usr/local/lib/python3.10/dist-packages (from pandas>=1.3->dask[complete]) (2.8.2)\n",
            "Requirement already satisfied: pytz>=2020.1 in /usr/local/lib/python3.10/dist-packages (from pandas>=1.3->dask[complete]) (2023.3)\n",
            "Requirement already satisfied: tzdata>=2022.1 in /usr/local/lib/python3.10/dist-packages (from pandas>=1.3->dask[complete]) (2023.3)\n",
            "Requirement already satisfied: six>=1.5 in /usr/local/lib/python3.10/dist-packages (from python-dateutil>=2.8.2->pandas>=1.3->dask[complete]) (1.16.0)\n"
          ]
        }
      ]
    },
    {
      "cell_type": "code",
      "source": [
        "from google.colab import drive\n",
        "drive.mount('/content/drive')"
      ],
      "metadata": {
        "colab": {
          "base_uri": "https://localhost:8080/"
        },
        "id": "Vs-NkI42aq4I",
        "outputId": "f6635387-c63f-4818-e4ee-119cbac3b0a0"
      },
      "execution_count": 2,
      "outputs": [
        {
          "output_type": "stream",
          "name": "stdout",
          "text": [
            "Drive already mounted at /content/drive; to attempt to forcibly remount, call drive.mount(\"/content/drive\", force_remount=True).\n"
          ]
        }
      ]
    },
    {
      "cell_type": "markdown",
      "metadata": {
        "id": "DwI75gdPaplK"
      },
      "source": [
        "# Step 1: File Saving"
      ]
    },
    {
      "cell_type": "markdown",
      "source": [
        "## Due to RAM overflow, data size has 1/4 of the required size."
      ],
      "metadata": {
        "id": "P0JY615PfaNS"
      }
    },
    {
      "cell_type": "code",
      "execution_count": 3,
      "metadata": {
        "id": "AaBQX8y1aplK"
      },
      "outputs": [],
      "source": [
        "csv_file = '/content/drive/MyDrive/CPAT.csv'"
      ]
    },
    {
      "cell_type": "code",
      "source": [
        "!pip install --force-reinstall pandas"
      ],
      "metadata": {
        "colab": {
          "base_uri": "https://localhost:8080/",
          "height": 863
        },
        "id": "oYsu6mcjLLG2",
        "outputId": "6b8461e7-9b40-4d07-cff7-d29baca578d0"
      },
      "execution_count": 4,
      "outputs": [
        {
          "output_type": "stream",
          "name": "stdout",
          "text": [
            "Collecting pandas\n",
            "  Using cached pandas-2.0.3-cp310-cp310-manylinux_2_17_x86_64.manylinux2014_x86_64.whl (12.3 MB)\n",
            "Collecting python-dateutil>=2.8.2 (from pandas)\n",
            "  Using cached python_dateutil-2.8.2-py2.py3-none-any.whl (247 kB)\n",
            "Collecting pytz>=2020.1 (from pandas)\n",
            "  Using cached pytz-2023.3-py2.py3-none-any.whl (502 kB)\n",
            "Collecting tzdata>=2022.1 (from pandas)\n",
            "  Using cached tzdata-2023.3-py2.py3-none-any.whl (341 kB)\n",
            "Collecting numpy>=1.21.0 (from pandas)\n",
            "  Using cached numpy-1.25.2-cp310-cp310-manylinux_2_17_x86_64.manylinux2014_x86_64.whl (18.2 MB)\n",
            "Collecting six>=1.5 (from python-dateutil>=2.8.2->pandas)\n",
            "  Using cached six-1.16.0-py2.py3-none-any.whl (11 kB)\n",
            "Installing collected packages: pytz, tzdata, six, numpy, python-dateutil, pandas\n",
            "  Attempting uninstall: pytz\n",
            "    Found existing installation: pytz 2023.3\n",
            "    Uninstalling pytz-2023.3:\n",
            "      Successfully uninstalled pytz-2023.3\n",
            "  Attempting uninstall: tzdata\n",
            "    Found existing installation: tzdata 2023.3\n",
            "    Uninstalling tzdata-2023.3:\n",
            "      Successfully uninstalled tzdata-2023.3\n",
            "  Attempting uninstall: six\n",
            "    Found existing installation: six 1.16.0\n",
            "    Uninstalling six-1.16.0:\n",
            "      Successfully uninstalled six-1.16.0\n",
            "  Attempting uninstall: numpy\n",
            "    Found existing installation: numpy 1.25.2\n",
            "    Uninstalling numpy-1.25.2:\n",
            "      Successfully uninstalled numpy-1.25.2\n",
            "  Attempting uninstall: python-dateutil\n",
            "    Found existing installation: python-dateutil 2.8.2\n",
            "    Uninstalling python-dateutil-2.8.2:\n",
            "      Successfully uninstalled python-dateutil-2.8.2\n",
            "  Attempting uninstall: pandas\n",
            "    Found existing installation: pandas 2.0.3\n",
            "    Uninstalling pandas-2.0.3:\n",
            "      Successfully uninstalled pandas-2.0.3\n",
            "\u001b[31mERROR: pip's dependency resolver does not currently take into account all the packages that are installed. This behaviour is the source of the following dependency conflicts.\n",
            "google-colab 1.0.0 requires pandas==1.5.3, but you have pandas 2.0.3 which is incompatible.\n",
            "numba 0.56.4 requires numpy<1.24,>=1.18, but you have numpy 1.25.2 which is incompatible.\n",
            "tensorflow 2.12.0 requires numpy<1.24,>=1.22, but you have numpy 1.25.2 which is incompatible.\u001b[0m\u001b[31m\n",
            "\u001b[0mSuccessfully installed numpy-1.25.2 pandas-2.0.3 python-dateutil-2.8.2 pytz-2023.3 six-1.16.0 tzdata-2023.3\n"
          ]
        },
        {
          "output_type": "display_data",
          "data": {
            "application/vnd.colab-display-data+json": {
              "pip_warning": {
                "packages": [
                  "dateutil",
                  "numpy",
                  "six"
                ]
              }
            }
          },
          "metadata": {}
        }
      ]
    },
    {
      "cell_type": "code",
      "source": [
        "!pip install modin --upgrade\n",
        "!pip install ray"
      ],
      "metadata": {
        "id": "xeEMg-k_d_Sz",
        "colab": {
          "base_uri": "https://localhost:8080/"
        },
        "outputId": "92413067-7ecb-4995-8738-6ebe1cd8cfbd"
      },
      "execution_count": 5,
      "outputs": [
        {
          "output_type": "stream",
          "name": "stdout",
          "text": [
            "Requirement already satisfied: modin in /usr/local/lib/python3.10/dist-packages (0.23.0)\n",
            "Requirement already satisfied: pandas<2.1,>=2 in /usr/local/lib/python3.10/dist-packages (from modin) (2.0.3)\n",
            "Requirement already satisfied: packaging in /usr/local/lib/python3.10/dist-packages (from modin) (23.1)\n",
            "Requirement already satisfied: numpy>=1.18.5 in /usr/local/lib/python3.10/dist-packages (from modin) (1.25.2)\n",
            "Requirement already satisfied: fsspec in /usr/local/lib/python3.10/dist-packages (from modin) (2023.6.0)\n",
            "Requirement already satisfied: psutil in /usr/local/lib/python3.10/dist-packages (from modin) (5.9.5)\n",
            "Requirement already satisfied: python-dateutil>=2.8.2 in /usr/local/lib/python3.10/dist-packages (from pandas<2.1,>=2->modin) (2.8.2)\n",
            "Requirement already satisfied: pytz>=2020.1 in /usr/local/lib/python3.10/dist-packages (from pandas<2.1,>=2->modin) (2023.3)\n",
            "Requirement already satisfied: tzdata>=2022.1 in /usr/local/lib/python3.10/dist-packages (from pandas<2.1,>=2->modin) (2023.3)\n",
            "Requirement already satisfied: six>=1.5 in /usr/local/lib/python3.10/dist-packages (from python-dateutil>=2.8.2->pandas<2.1,>=2->modin) (1.16.0)\n",
            "Requirement already satisfied: ray in /usr/local/lib/python3.10/dist-packages (2.6.2)\n",
            "Requirement already satisfied: click>=7.0 in /usr/local/lib/python3.10/dist-packages (from ray) (8.1.6)\n",
            "Requirement already satisfied: filelock in /usr/local/lib/python3.10/dist-packages (from ray) (3.12.2)\n",
            "Requirement already satisfied: jsonschema in /usr/local/lib/python3.10/dist-packages (from ray) (4.3.3)\n",
            "Requirement already satisfied: msgpack<2.0.0,>=1.0.0 in /usr/local/lib/python3.10/dist-packages (from ray) (1.0.5)\n",
            "Requirement already satisfied: packaging in /usr/local/lib/python3.10/dist-packages (from ray) (23.1)\n",
            "Requirement already satisfied: protobuf!=3.19.5,>=3.15.3 in /usr/local/lib/python3.10/dist-packages (from ray) (3.20.3)\n",
            "Requirement already satisfied: pyyaml in /usr/local/lib/python3.10/dist-packages (from ray) (6.0.1)\n",
            "Requirement already satisfied: aiosignal in /usr/local/lib/python3.10/dist-packages (from ray) (1.3.1)\n",
            "Requirement already satisfied: frozenlist in /usr/local/lib/python3.10/dist-packages (from ray) (1.4.0)\n",
            "Requirement already satisfied: requests in /usr/local/lib/python3.10/dist-packages (from ray) (2.27.1)\n",
            "Requirement already satisfied: grpcio>=1.42.0 in /usr/local/lib/python3.10/dist-packages (from ray) (1.56.2)\n",
            "Requirement already satisfied: numpy>=1.19.3 in /usr/local/lib/python3.10/dist-packages (from ray) (1.25.2)\n",
            "Requirement already satisfied: attrs>=17.4.0 in /usr/local/lib/python3.10/dist-packages (from jsonschema->ray) (23.1.0)\n",
            "Requirement already satisfied: pyrsistent!=0.17.0,!=0.17.1,!=0.17.2,>=0.14.0 in /usr/local/lib/python3.10/dist-packages (from jsonschema->ray) (0.19.3)\n",
            "Requirement already satisfied: urllib3<1.27,>=1.21.1 in /usr/local/lib/python3.10/dist-packages (from requests->ray) (1.26.16)\n",
            "Requirement already satisfied: certifi>=2017.4.17 in /usr/local/lib/python3.10/dist-packages (from requests->ray) (2023.7.22)\n",
            "Requirement already satisfied: charset-normalizer~=2.0.0 in /usr/local/lib/python3.10/dist-packages (from requests->ray) (2.0.12)\n",
            "Requirement already satisfied: idna<4,>=2.5 in /usr/local/lib/python3.10/dist-packages (from requests->ray) (3.4)\n"
          ]
        }
      ]
    },
    {
      "cell_type": "markdown",
      "metadata": {
        "id": "el1oGQZ9aplL"
      },
      "source": [
        "# Step 2 & 3: Reading and comparing computational efficiency"
      ]
    },
    {
      "cell_type": "code",
      "execution_count": 6,
      "metadata": {
        "colab": {
          "base_uri": "https://localhost:8080/"
        },
        "id": "L_OCxgcIaplL",
        "outputId": "c020922e-0868-4f75-8e48-5c91f96ca09c"
      },
      "outputs": [
        {
          "output_type": "stream",
          "name": "stdout",
          "text": [
            "Computational Efficiency | Dask: 0.04 seconds\n",
            "\n"
          ]
        },
        {
          "output_type": "stream",
          "name": "stderr",
          "text": [
            "2023-08-06 04:58:13,763\tINFO worker.py:1621 -- Started a local Ray instance.\n",
            "UserWarning: When using a pre-initialized Ray cluster, please ensure that the runtime env sets environment variable __MODIN_AUTOIMPORT_PANDAS__ to 1\n"
          ]
        },
        {
          "output_type": "stream",
          "name": "stdout",
          "text": [
            "Computational Efficiency | Motin Ray: 15.31 seconds\n",
            "\n",
            "Computational Efficiency | Pandas: 7.02 seconds\n",
            "\n"
          ]
        }
      ],
      "source": [
        "import time\n",
        "import dask\n",
        "import modin.pandas as m_pd\n",
        "import dask.dataframe as dd\n",
        "import pandas as pd\n",
        "import numpy as np\n",
        "import ray\n",
        "\n",
        "# Dask\n",
        "start_time = time.time()\n",
        "df = dd.read_csv(csv_file)\n",
        "end_time = time.time()\n",
        "print(\"Computational Efficiency | Dask:\", round(end_time - start_time,2), \"seconds\\n\")\n",
        "\n",
        "# Motin Ray\n",
        "ray.init()\n",
        "start_time = time.time()\n",
        "df = m_pd.read_csv(csv_file)\n",
        "end_time = time.time()\n",
        "print(\"Computational Efficiency | Motin Ray:\", round(end_time - start_time,2), \"seconds\\n\")\n",
        "ray.shutdown()\n",
        "\n",
        "# Pandas\n",
        "start_time = time.time()\n",
        "df = pd.read_csv(csv_file)\n",
        "end_time = time.time()\n",
        "print(\"Computational Efficiency | Pandas:\", round(end_time - start_time,2), \"seconds\\n\")"
      ]
    },
    {
      "cell_type": "markdown",
      "metadata": {
        "id": "LhP3QHdxaplM"
      },
      "source": [
        "**Dask performs massively better than Modin/Ray and Pandas**"
      ]
    },
    {
      "cell_type": "markdown",
      "metadata": {
        "id": "BqXkYM2HaplM"
      },
      "source": [
        "# Step 4: Perform basic validation on data columns"
      ]
    },
    {
      "cell_type": "markdown",
      "metadata": {
        "id": "mBJlnOitaplM"
      },
      "source": [
        "## Validation by own def"
      ]
    },
    {
      "cell_type": "code",
      "source": [
        "df['number'].fillna('Not found', inplace=True)\n",
        "df['origin'].fillna('Not found', inplace=True)\n",
        "df['destination'].fillna('Not found', inplace=True)\n",
        "df['typecode'].fillna('Not found', inplace=True)\n",
        "df"
      ],
      "metadata": {
        "colab": {
          "base_uri": "https://localhost:8080/",
          "height": 1000
        },
        "id": "ixqfoCDEowmo",
        "outputId": "eb53f30e-3130-4af7-deb8-d783222d537e"
      },
      "execution_count": 7,
      "outputs": [
        {
          "output_type": "execute_result",
          "data": {
            "text/plain": [
              "        callsign     number                          aircraft_uid   typecode  \\\n",
              "0         CBJ431  Not found  e73950ce-16b4-4838-9828-f69c7c51668d       A332   \n",
              "1         CCA839  Not found  9d8c6719-f6f6-486d-b725-cea288b0cb16       A332   \n",
              "2          HVN37  Not found  0c72436b-a844-4f0d-bfe7-589414fdc6ff       B789   \n",
              "3         SIA322  Not found  9aa14f29-2d50-45a6-92de-1cd811b0970e       A388   \n",
              "4         CSN461  Not found  3cdbc44e-0d86-4b9f-9c0d-6bb0e3d92f4b       B77L   \n",
              "...          ...        ...                                   ...        ...   \n",
              "2005953      NaN  Not found  7934ed5f-78bb-4598-ba23-d1fe5db81dce       SR22   \n",
              "2005954  FZA6743  Not found  40611fae-dd10-468c-a5a7-c6e0230143e6  Not found   \n",
              "2005955   NZM353  Not found  f44ef3bd-cfaa-4163-a08c-7bb9e1d3ec74  Not found   \n",
              "2005956   PXT920  Not found  54a55dc3-c677-4936-ad75-a9c6abcdfead  Not found   \n",
              "2005957      NaN  Not found  989c16c8-2afa-4f2f-adde-17f6a3ac2dea  Not found   \n",
              "\n",
              "            origin destination                  firstseen  \\\n",
              "0             YSSY        EGLL  2019-01-31 00:14:53+00:00   \n",
              "1             YMML   Not found  2019-01-31 00:50:19+00:00   \n",
              "2             YSSY        EDDF  2019-01-31 01:11:43+00:00   \n",
              "3             YSSY        EGLL  2019-01-31 01:33:48+00:00   \n",
              "4             KORD        EDDF  2019-01-31 02:13:26+00:00   \n",
              "...            ...         ...                        ...   \n",
              "2005953       KHPN        KFRG  2019-02-28 23:46:07+00:00   \n",
              "2005954  Not found   Not found  2019-02-28 23:46:39+00:00   \n",
              "2005955  Not found        NZCH  2019-02-28 23:46:52+00:00   \n",
              "2005956       KSJC        KOAK  2019-02-28 23:46:56+00:00   \n",
              "2005957       KAFF        KAFF  2019-02-28 23:47:50+00:00   \n",
              "\n",
              "                          lastseen                        day  latitude_1  \\\n",
              "0        2019-02-01 19:38:23+00:00  2019-02-01 00:00:00+00:00  -33.932019   \n",
              "1        2019-02-01 06:53:38+00:00  2019-02-01 00:00:00+00:00  -37.690796   \n",
              "2        2019-02-01 05:02:22+00:00  2019-02-01 00:00:00+00:00  -33.926376   \n",
              "3        2019-02-01 05:44:51+00:00  2019-02-01 00:00:00+00:00  -33.929169   \n",
              "4        2019-02-01 11:12:52+00:00  2019-02-01 00:00:00+00:00   41.969403   \n",
              "...                            ...                        ...         ...   \n",
              "2005953  2019-02-28 23:56:59+00:00  2019-02-28 00:00:00+00:00   41.066615   \n",
              "2005954  2019-02-28 23:59:49+00:00  2019-02-28 00:00:00+00:00   36.288666   \n",
              "2005955  2019-02-28 23:57:55+00:00  2019-02-28 00:00:00+00:00  -43.198471   \n",
              "2005956  2019-02-28 23:57:09+00:00  2019-02-28 00:00:00+00:00   37.362919   \n",
              "2005957  2019-02-28 23:58:52+00:00  2019-02-28 00:00:00+00:00   38.966271   \n",
              "\n",
              "         longitude_1  altitude_1  latitude_2  longitude_2  altitude_2  \n",
              "0         151.172276         0.0   51.477558    -0.488968      220.98  \n",
              "1         144.841997       304.8   41.352539     2.462158     1508.76  \n",
              "2         151.170978       304.8   50.044258     8.539503      304.80  \n",
              "3         151.171819         0.0   51.464813    -0.483695      289.56  \n",
              "4         -87.938275       304.8   50.027985     8.536088      259.08  \n",
              "...              ...         ...         ...          ...         ...  \n",
              "2005953   -73.706651         0.0   40.713364   -73.414124       -7.62  \n",
              "2005954   113.100643      6400.8   37.604233   112.667425     6004.56  \n",
              "2005955   173.085895      3352.8  -43.511865   172.505624       45.72  \n",
              "2005956  -121.926926         0.0   37.726730  -122.210687      -60.96  \n",
              "2005957  -104.820618      1828.8   38.984380  -104.830261     2042.16  \n",
              "\n",
              "[2005958 rows x 15 columns]"
            ],
            "text/html": [
              "\n",
              "\n",
              "  <div id=\"df-cc5e8c53-5621-413d-b832-b8ab3ad4c6e2\">\n",
              "    <div class=\"colab-df-container\">\n",
              "      <div>\n",
              "<style scoped>\n",
              "    .dataframe tbody tr th:only-of-type {\n",
              "        vertical-align: middle;\n",
              "    }\n",
              "\n",
              "    .dataframe tbody tr th {\n",
              "        vertical-align: top;\n",
              "    }\n",
              "\n",
              "    .dataframe thead th {\n",
              "        text-align: right;\n",
              "    }\n",
              "</style>\n",
              "<table border=\"1\" class=\"dataframe\">\n",
              "  <thead>\n",
              "    <tr style=\"text-align: right;\">\n",
              "      <th></th>\n",
              "      <th>callsign</th>\n",
              "      <th>number</th>\n",
              "      <th>aircraft_uid</th>\n",
              "      <th>typecode</th>\n",
              "      <th>origin</th>\n",
              "      <th>destination</th>\n",
              "      <th>firstseen</th>\n",
              "      <th>lastseen</th>\n",
              "      <th>day</th>\n",
              "      <th>latitude_1</th>\n",
              "      <th>longitude_1</th>\n",
              "      <th>altitude_1</th>\n",
              "      <th>latitude_2</th>\n",
              "      <th>longitude_2</th>\n",
              "      <th>altitude_2</th>\n",
              "    </tr>\n",
              "  </thead>\n",
              "  <tbody>\n",
              "    <tr>\n",
              "      <th>0</th>\n",
              "      <td>CBJ431</td>\n",
              "      <td>Not found</td>\n",
              "      <td>e73950ce-16b4-4838-9828-f69c7c51668d</td>\n",
              "      <td>A332</td>\n",
              "      <td>YSSY</td>\n",
              "      <td>EGLL</td>\n",
              "      <td>2019-01-31 00:14:53+00:00</td>\n",
              "      <td>2019-02-01 19:38:23+00:00</td>\n",
              "      <td>2019-02-01 00:00:00+00:00</td>\n",
              "      <td>-33.932019</td>\n",
              "      <td>151.172276</td>\n",
              "      <td>0.0</td>\n",
              "      <td>51.477558</td>\n",
              "      <td>-0.488968</td>\n",
              "      <td>220.98</td>\n",
              "    </tr>\n",
              "    <tr>\n",
              "      <th>1</th>\n",
              "      <td>CCA839</td>\n",
              "      <td>Not found</td>\n",
              "      <td>9d8c6719-f6f6-486d-b725-cea288b0cb16</td>\n",
              "      <td>A332</td>\n",
              "      <td>YMML</td>\n",
              "      <td>Not found</td>\n",
              "      <td>2019-01-31 00:50:19+00:00</td>\n",
              "      <td>2019-02-01 06:53:38+00:00</td>\n",
              "      <td>2019-02-01 00:00:00+00:00</td>\n",
              "      <td>-37.690796</td>\n",
              "      <td>144.841997</td>\n",
              "      <td>304.8</td>\n",
              "      <td>41.352539</td>\n",
              "      <td>2.462158</td>\n",
              "      <td>1508.76</td>\n",
              "    </tr>\n",
              "    <tr>\n",
              "      <th>2</th>\n",
              "      <td>HVN37</td>\n",
              "      <td>Not found</td>\n",
              "      <td>0c72436b-a844-4f0d-bfe7-589414fdc6ff</td>\n",
              "      <td>B789</td>\n",
              "      <td>YSSY</td>\n",
              "      <td>EDDF</td>\n",
              "      <td>2019-01-31 01:11:43+00:00</td>\n",
              "      <td>2019-02-01 05:02:22+00:00</td>\n",
              "      <td>2019-02-01 00:00:00+00:00</td>\n",
              "      <td>-33.926376</td>\n",
              "      <td>151.170978</td>\n",
              "      <td>304.8</td>\n",
              "      <td>50.044258</td>\n",
              "      <td>8.539503</td>\n",
              "      <td>304.80</td>\n",
              "    </tr>\n",
              "    <tr>\n",
              "      <th>3</th>\n",
              "      <td>SIA322</td>\n",
              "      <td>Not found</td>\n",
              "      <td>9aa14f29-2d50-45a6-92de-1cd811b0970e</td>\n",
              "      <td>A388</td>\n",
              "      <td>YSSY</td>\n",
              "      <td>EGLL</td>\n",
              "      <td>2019-01-31 01:33:48+00:00</td>\n",
              "      <td>2019-02-01 05:44:51+00:00</td>\n",
              "      <td>2019-02-01 00:00:00+00:00</td>\n",
              "      <td>-33.929169</td>\n",
              "      <td>151.171819</td>\n",
              "      <td>0.0</td>\n",
              "      <td>51.464813</td>\n",
              "      <td>-0.483695</td>\n",
              "      <td>289.56</td>\n",
              "    </tr>\n",
              "    <tr>\n",
              "      <th>4</th>\n",
              "      <td>CSN461</td>\n",
              "      <td>Not found</td>\n",
              "      <td>3cdbc44e-0d86-4b9f-9c0d-6bb0e3d92f4b</td>\n",
              "      <td>B77L</td>\n",
              "      <td>KORD</td>\n",
              "      <td>EDDF</td>\n",
              "      <td>2019-01-31 02:13:26+00:00</td>\n",
              "      <td>2019-02-01 11:12:52+00:00</td>\n",
              "      <td>2019-02-01 00:00:00+00:00</td>\n",
              "      <td>41.969403</td>\n",
              "      <td>-87.938275</td>\n",
              "      <td>304.8</td>\n",
              "      <td>50.027985</td>\n",
              "      <td>8.536088</td>\n",
              "      <td>259.08</td>\n",
              "    </tr>\n",
              "    <tr>\n",
              "      <th>...</th>\n",
              "      <td>...</td>\n",
              "      <td>...</td>\n",
              "      <td>...</td>\n",
              "      <td>...</td>\n",
              "      <td>...</td>\n",
              "      <td>...</td>\n",
              "      <td>...</td>\n",
              "      <td>...</td>\n",
              "      <td>...</td>\n",
              "      <td>...</td>\n",
              "      <td>...</td>\n",
              "      <td>...</td>\n",
              "      <td>...</td>\n",
              "      <td>...</td>\n",
              "      <td>...</td>\n",
              "    </tr>\n",
              "    <tr>\n",
              "      <th>2005953</th>\n",
              "      <td>NaN</td>\n",
              "      <td>Not found</td>\n",
              "      <td>7934ed5f-78bb-4598-ba23-d1fe5db81dce</td>\n",
              "      <td>SR22</td>\n",
              "      <td>KHPN</td>\n",
              "      <td>KFRG</td>\n",
              "      <td>2019-02-28 23:46:07+00:00</td>\n",
              "      <td>2019-02-28 23:56:59+00:00</td>\n",
              "      <td>2019-02-28 00:00:00+00:00</td>\n",
              "      <td>41.066615</td>\n",
              "      <td>-73.706651</td>\n",
              "      <td>0.0</td>\n",
              "      <td>40.713364</td>\n",
              "      <td>-73.414124</td>\n",
              "      <td>-7.62</td>\n",
              "    </tr>\n",
              "    <tr>\n",
              "      <th>2005954</th>\n",
              "      <td>FZA6743</td>\n",
              "      <td>Not found</td>\n",
              "      <td>40611fae-dd10-468c-a5a7-c6e0230143e6</td>\n",
              "      <td>Not found</td>\n",
              "      <td>Not found</td>\n",
              "      <td>Not found</td>\n",
              "      <td>2019-02-28 23:46:39+00:00</td>\n",
              "      <td>2019-02-28 23:59:49+00:00</td>\n",
              "      <td>2019-02-28 00:00:00+00:00</td>\n",
              "      <td>36.288666</td>\n",
              "      <td>113.100643</td>\n",
              "      <td>6400.8</td>\n",
              "      <td>37.604233</td>\n",
              "      <td>112.667425</td>\n",
              "      <td>6004.56</td>\n",
              "    </tr>\n",
              "    <tr>\n",
              "      <th>2005955</th>\n",
              "      <td>NZM353</td>\n",
              "      <td>Not found</td>\n",
              "      <td>f44ef3bd-cfaa-4163-a08c-7bb9e1d3ec74</td>\n",
              "      <td>Not found</td>\n",
              "      <td>Not found</td>\n",
              "      <td>NZCH</td>\n",
              "      <td>2019-02-28 23:46:52+00:00</td>\n",
              "      <td>2019-02-28 23:57:55+00:00</td>\n",
              "      <td>2019-02-28 00:00:00+00:00</td>\n",
              "      <td>-43.198471</td>\n",
              "      <td>173.085895</td>\n",
              "      <td>3352.8</td>\n",
              "      <td>-43.511865</td>\n",
              "      <td>172.505624</td>\n",
              "      <td>45.72</td>\n",
              "    </tr>\n",
              "    <tr>\n",
              "      <th>2005956</th>\n",
              "      <td>PXT920</td>\n",
              "      <td>Not found</td>\n",
              "      <td>54a55dc3-c677-4936-ad75-a9c6abcdfead</td>\n",
              "      <td>Not found</td>\n",
              "      <td>KSJC</td>\n",
              "      <td>KOAK</td>\n",
              "      <td>2019-02-28 23:46:56+00:00</td>\n",
              "      <td>2019-02-28 23:57:09+00:00</td>\n",
              "      <td>2019-02-28 00:00:00+00:00</td>\n",
              "      <td>37.362919</td>\n",
              "      <td>-121.926926</td>\n",
              "      <td>0.0</td>\n",
              "      <td>37.726730</td>\n",
              "      <td>-122.210687</td>\n",
              "      <td>-60.96</td>\n",
              "    </tr>\n",
              "    <tr>\n",
              "      <th>2005957</th>\n",
              "      <td>NaN</td>\n",
              "      <td>Not found</td>\n",
              "      <td>989c16c8-2afa-4f2f-adde-17f6a3ac2dea</td>\n",
              "      <td>Not found</td>\n",
              "      <td>KAFF</td>\n",
              "      <td>KAFF</td>\n",
              "      <td>2019-02-28 23:47:50+00:00</td>\n",
              "      <td>2019-02-28 23:58:52+00:00</td>\n",
              "      <td>2019-02-28 00:00:00+00:00</td>\n",
              "      <td>38.966271</td>\n",
              "      <td>-104.820618</td>\n",
              "      <td>1828.8</td>\n",
              "      <td>38.984380</td>\n",
              "      <td>-104.830261</td>\n",
              "      <td>2042.16</td>\n",
              "    </tr>\n",
              "  </tbody>\n",
              "</table>\n",
              "<p>2005958 rows × 15 columns</p>\n",
              "</div>\n",
              "      <button class=\"colab-df-convert\" onclick=\"convertToInteractive('df-cc5e8c53-5621-413d-b832-b8ab3ad4c6e2')\"\n",
              "              title=\"Convert this dataframe to an interactive table.\"\n",
              "              style=\"display:none;\">\n",
              "\n",
              "  <svg xmlns=\"http://www.w3.org/2000/svg\" height=\"24px\"viewBox=\"0 0 24 24\"\n",
              "       width=\"24px\">\n",
              "    <path d=\"M0 0h24v24H0V0z\" fill=\"none\"/>\n",
              "    <path d=\"M18.56 5.44l.94 2.06.94-2.06 2.06-.94-2.06-.94-.94-2.06-.94 2.06-2.06.94zm-11 1L8.5 8.5l.94-2.06 2.06-.94-2.06-.94L8.5 2.5l-.94 2.06-2.06.94zm10 10l.94 2.06.94-2.06 2.06-.94-2.06-.94-.94-2.06-.94 2.06-2.06.94z\"/><path d=\"M17.41 7.96l-1.37-1.37c-.4-.4-.92-.59-1.43-.59-.52 0-1.04.2-1.43.59L10.3 9.45l-7.72 7.72c-.78.78-.78 2.05 0 2.83L4 21.41c.39.39.9.59 1.41.59.51 0 1.02-.2 1.41-.59l7.78-7.78 2.81-2.81c.8-.78.8-2.07 0-2.86zM5.41 20L4 18.59l7.72-7.72 1.47 1.35L5.41 20z\"/>\n",
              "  </svg>\n",
              "      </button>\n",
              "\n",
              "\n",
              "\n",
              "    <div id=\"df-d60b9995-abdc-4baa-be0b-edc01bdd839e\">\n",
              "      <button class=\"colab-df-quickchart\" onclick=\"quickchart('df-d60b9995-abdc-4baa-be0b-edc01bdd839e')\"\n",
              "              title=\"Suggest charts.\"\n",
              "              style=\"display:none;\">\n",
              "\n",
              "<svg xmlns=\"http://www.w3.org/2000/svg\" height=\"24px\"viewBox=\"0 0 24 24\"\n",
              "     width=\"24px\">\n",
              "    <g>\n",
              "        <path d=\"M19 3H5c-1.1 0-2 .9-2 2v14c0 1.1.9 2 2 2h14c1.1 0 2-.9 2-2V5c0-1.1-.9-2-2-2zM9 17H7v-7h2v7zm4 0h-2V7h2v10zm4 0h-2v-4h2v4z\"/>\n",
              "    </g>\n",
              "</svg>\n",
              "      </button>\n",
              "    </div>\n",
              "\n",
              "<style>\n",
              "  .colab-df-quickchart {\n",
              "    background-color: #E8F0FE;\n",
              "    border: none;\n",
              "    border-radius: 50%;\n",
              "    cursor: pointer;\n",
              "    display: none;\n",
              "    fill: #1967D2;\n",
              "    height: 32px;\n",
              "    padding: 0 0 0 0;\n",
              "    width: 32px;\n",
              "  }\n",
              "\n",
              "  .colab-df-quickchart:hover {\n",
              "    background-color: #E2EBFA;\n",
              "    box-shadow: 0px 1px 2px rgba(60, 64, 67, 0.3), 0px 1px 3px 1px rgba(60, 64, 67, 0.15);\n",
              "    fill: #174EA6;\n",
              "  }\n",
              "\n",
              "  [theme=dark] .colab-df-quickchart {\n",
              "    background-color: #3B4455;\n",
              "    fill: #D2E3FC;\n",
              "  }\n",
              "\n",
              "  [theme=dark] .colab-df-quickchart:hover {\n",
              "    background-color: #434B5C;\n",
              "    box-shadow: 0px 1px 3px 1px rgba(0, 0, 0, 0.15);\n",
              "    filter: drop-shadow(0px 1px 2px rgba(0, 0, 0, 0.3));\n",
              "    fill: #FFFFFF;\n",
              "  }\n",
              "</style>\n",
              "\n",
              "    <script>\n",
              "      async function quickchart(key) {\n",
              "        const containerElement = document.querySelector('#' + key);\n",
              "        const charts = await google.colab.kernel.invokeFunction(\n",
              "            'suggestCharts', [key], {});\n",
              "      }\n",
              "    </script>\n",
              "\n",
              "      <script>\n",
              "\n",
              "function displayQuickchartButton(domScope) {\n",
              "  let quickchartButtonEl =\n",
              "    domScope.querySelector('#df-d60b9995-abdc-4baa-be0b-edc01bdd839e button.colab-df-quickchart');\n",
              "  quickchartButtonEl.style.display =\n",
              "    google.colab.kernel.accessAllowed ? 'block' : 'none';\n",
              "}\n",
              "\n",
              "        displayQuickchartButton(document);\n",
              "      </script>\n",
              "      <style>\n",
              "    .colab-df-container {\n",
              "      display:flex;\n",
              "      flex-wrap:wrap;\n",
              "      gap: 12px;\n",
              "    }\n",
              "\n",
              "    .colab-df-convert {\n",
              "      background-color: #E8F0FE;\n",
              "      border: none;\n",
              "      border-radius: 50%;\n",
              "      cursor: pointer;\n",
              "      display: none;\n",
              "      fill: #1967D2;\n",
              "      height: 32px;\n",
              "      padding: 0 0 0 0;\n",
              "      width: 32px;\n",
              "    }\n",
              "\n",
              "    .colab-df-convert:hover {\n",
              "      background-color: #E2EBFA;\n",
              "      box-shadow: 0px 1px 2px rgba(60, 64, 67, 0.3), 0px 1px 3px 1px rgba(60, 64, 67, 0.15);\n",
              "      fill: #174EA6;\n",
              "    }\n",
              "\n",
              "    [theme=dark] .colab-df-convert {\n",
              "      background-color: #3B4455;\n",
              "      fill: #D2E3FC;\n",
              "    }\n",
              "\n",
              "    [theme=dark] .colab-df-convert:hover {\n",
              "      background-color: #434B5C;\n",
              "      box-shadow: 0px 1px 3px 1px rgba(0, 0, 0, 0.15);\n",
              "      filter: drop-shadow(0px 1px 2px rgba(0, 0, 0, 0.3));\n",
              "      fill: #FFFFFF;\n",
              "    }\n",
              "  </style>\n",
              "\n",
              "      <script>\n",
              "        const buttonEl =\n",
              "          document.querySelector('#df-cc5e8c53-5621-413d-b832-b8ab3ad4c6e2 button.colab-df-convert');\n",
              "        buttonEl.style.display =\n",
              "          google.colab.kernel.accessAllowed ? 'block' : 'none';\n",
              "\n",
              "        async function convertToInteractive(key) {\n",
              "          const element = document.querySelector('#df-cc5e8c53-5621-413d-b832-b8ab3ad4c6e2');\n",
              "          const dataTable =\n",
              "            await google.colab.kernel.invokeFunction('convertToInteractive',\n",
              "                                                     [key], {});\n",
              "          if (!dataTable) return;\n",
              "\n",
              "          const docLinkHtml = 'Like what you see? Visit the ' +\n",
              "            '<a target=\"_blank\" href=https://colab.research.google.com/notebooks/data_table.ipynb>data table notebook</a>'\n",
              "            + ' to learn more about interactive tables.';\n",
              "          element.innerHTML = '';\n",
              "          dataTable['output_type'] = 'display_data';\n",
              "          await google.colab.output.renderOutput(dataTable, element);\n",
              "          const docLink = document.createElement('div');\n",
              "          docLink.innerHTML = docLinkHtml;\n",
              "          element.appendChild(docLink);\n",
              "        }\n",
              "      </script>\n",
              "    </div>\n",
              "  </div>\n"
            ]
          },
          "metadata": {},
          "execution_count": 7
        }
      ]
    },
    {
      "cell_type": "code",
      "execution_count": 8,
      "metadata": {
        "id": "C2nNAOjfaplM"
      },
      "outputs": [],
      "source": [
        "import re\n",
        "\n",
        "def data_validation(index):\n",
        "    return re.sub(r'[^\\w\\s]', '', index).strip()\n",
        "\n",
        "df_cleaned = df.applymap(lambda x: data_validation(x) if isinstance(x, str) else x)"
      ]
    },
    {
      "cell_type": "markdown",
      "metadata": {
        "id": "OD8zDWZuaplN"
      },
      "source": [
        "## Validation by Data Glacier def"
      ]
    },
    {
      "cell_type": "code",
      "execution_count": 9,
      "metadata": {
        "id": "WFKsnuSCaplN",
        "colab": {
          "base_uri": "https://localhost:8080/"
        },
        "outputId": "d59ffc21-f8e5-4841-9309-62ac47ffa72f"
      },
      "outputs": [
        {
          "output_type": "stream",
          "name": "stdout",
          "text": [
            "Writing validation_scripts.py\n"
          ]
        }
      ],
      "source": [
        "%%writefile validation_scripts.py\n",
        "\n",
        "import logging\n",
        "import os\n",
        "import subprocess\n",
        "import yaml\n",
        "import datetime\n",
        "import gc\n",
        "import re\n",
        "\n",
        "def replacer(string, char):\n",
        "    pattern = char + '{2,}'\n",
        "    string = re.sub(pattern, char, string)\n",
        "    return string\n",
        "\n",
        "def read_config_file(filepath):\n",
        "    with open(filepath, 'r') as stream:\n",
        "        try:\n",
        "            return yaml.safe_load(stream)\n",
        "        except yaml.YAMLError as exc:\n",
        "            logging.error(exc)\n",
        "\n",
        "def col_header_val(df,table_config):\n",
        "    df.columns = df.columns.str.lower()\n",
        "    df.columns = df.columns.str.replace('[^\\w]','_',regex=True)\n",
        "    df.columns = list(map(lambda x: x.strip('_'), list(df.columns)))\n",
        "    df.columns = list(map(lambda x: replacer(x,'_'), list(df.columns)))\n",
        "    expected_col = list(map(lambda x: x.lower(),  table_config['columns']))\n",
        "    expected_col.sort()\n",
        "    df.columns =list(map(lambda x: x.lower(), list(df.columns)))\n",
        "    df = df.reindex(sorted(df.columns), axis=1)\n",
        "    if len(df.columns) == len(expected_col) and list(expected_col)  == list(df.columns):\n",
        "        print(\"column name and column length validation passed\")\n",
        "        return 1\n",
        "    else:\n",
        "        print(\"column name and column length validation failed\")\n",
        "        mismatched_columns_file = list(set(df.columns).difference(expected_col))\n",
        "        print(\"Following File columns are not in the YAML file\",mismatched_columns_file)\n",
        "        missing_YAML_file = list(set(expected_col).difference(df.columns))\n",
        "        print(\"Following YAML columns are not in the file uploaded\",missing_YAML_file)\n",
        "        logging.info(f'df columns: {df.columns}')\n",
        "        logging.info(f'expected columns: {expected_col}')\n",
        "        return 0"
      ]
    },
    {
      "cell_type": "markdown",
      "metadata": {
        "id": "macgvqzjaplO"
      },
      "source": [
        "# Step 5: Create a YAML file and write the column name in YAML file. --define separator of read and write file, column name in YAML"
      ]
    },
    {
      "cell_type": "code",
      "execution_count": 10,
      "metadata": {
        "id": "5aYsquEDaplO",
        "colab": {
          "base_uri": "https://localhost:8080/"
        },
        "outputId": "0a616032-5bb2-4a4f-994a-237a6a78b384"
      },
      "outputs": [
        {
          "output_type": "stream",
          "name": "stdout",
          "text": [
            "Overwriting table_config.yaml\n"
          ]
        }
      ],
      "source": [
        "%%writefile table_config.yaml\n",
        "\n",
        "file_type: csv\n",
        "dataset_name: cpat\n",
        "file_name: config_v1\n",
        "table_name: edsurv\n",
        "inbound_delimiter: \",\"\n",
        "outbound_delimiter: \"|\"\n",
        "skip_leading_rows: 1\n",
        "columns:\n",
        "    - callsign\n",
        "    - number\n",
        "    - aircraft_uid\n",
        "    - typecode\n",
        "    - origin\n",
        "    - destination\n",
        "    - firstseen\n",
        "    - lastseen\n",
        "    - day\n",
        "    - latitude_1\n",
        "    - longitude_1\n",
        "    - altitude_1\n",
        "    - latitude_2\n",
        "    - longitude_2\n",
        "    - altitude_2"
      ]
    },
    {
      "cell_type": "markdown",
      "source": [
        "# Step 6: Validate number of columns and column name of ingested file with YAML"
      ],
      "metadata": {
        "id": "UIncONvsJ69f"
      }
    },
    {
      "cell_type": "code",
      "source": [
        "import validation_scripts as sc\n",
        "table_config = sc.read_config_file(\"table_config.yaml\")\n",
        "sc.col_header_val(df,table_config)"
      ],
      "metadata": {
        "colab": {
          "base_uri": "https://localhost:8080/"
        },
        "id": "5WxUekYNLUxF",
        "outputId": "8112dff4-841e-40c0-948f-5a7ce9c4a13f"
      },
      "execution_count": 11,
      "outputs": [
        {
          "output_type": "stream",
          "name": "stdout",
          "text": [
            "column name and column length validation passed\n"
          ]
        },
        {
          "output_type": "execute_result",
          "data": {
            "text/plain": [
              "1"
            ]
          },
          "metadata": {},
          "execution_count": 11
        }
      ]
    },
    {
      "cell_type": "markdown",
      "source": [
        "# Step 7: Write the file in pipe separated text file (|) in gz format"
      ],
      "metadata": {
        "id": "t02yYZ3dRHA9"
      }
    },
    {
      "cell_type": "code",
      "source": [
        "df.to_csv('new_df.gz', sep='|', compression='gzip', index=False)"
      ],
      "metadata": {
        "id": "eukt5HKWP-C5"
      },
      "execution_count": 12,
      "outputs": []
    },
    {
      "cell_type": "markdown",
      "source": [
        "# Step 8: Create a summary of the file"
      ],
      "metadata": {
        "id": "H438IMq0Rla3"
      }
    },
    {
      "cell_type": "code",
      "source": [
        "import os\n",
        "file_size = os.path.getsize('new_df.gz')\n",
        "\n",
        "num_rows = df.shape[0]\n",
        "num_columns = df.shape[1]\n",
        "\n",
        "print(f\"File Size: {file_size} bytes\")\n",
        "print(f\"Number of Rows: {num_rows}\")\n",
        "print(f\"Number of Columns: {num_columns}\")"
      ],
      "metadata": {
        "colab": {
          "base_uri": "https://localhost:8080/"
        },
        "id": "zfGgZchJR4gA",
        "outputId": "e1d58b5d-6cf5-4a47-c799-6add2f6162d0"
      },
      "execution_count": 17,
      "outputs": [
        {
          "output_type": "stream",
          "name": "stdout",
          "text": [
            "File Size: 175062119 bytes\n",
            "Number of Rows: 2005958\n",
            "Number of Columns: 15\n"
          ]
        }
      ]
    }
  ],
  "metadata": {
    "colab": {
      "provenance": [],
      "history_visible": true
    },
    "kernelspec": {
      "display_name": "Python 3",
      "name": "python3"
    },
    "language_info": {
      "name": "python",
      "version": "3.11.4"
    }
  },
  "nbformat": 4,
  "nbformat_minor": 0
}